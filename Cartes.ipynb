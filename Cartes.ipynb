{
 "cells": [
  {
   "cell_type": "code",
   "execution_count": null,
   "metadata": {},
   "outputs": [],
   "source": [
    "import pandas as pd\n",
    "import numpy as np\n",
    "import geopandas as gpd\n",
    "import matplotlib.pyplot as plt\n",
    "import import_ipynb\n",
    "import nettoyage_bases\n",
    "import Modelisation"
   ]
  },
  {
   "cell_type": "code",
   "execution_count": 3,
   "metadata": {},
   "outputs": [],
   "source": [
    "def Carte_conso_brute_reg(mois):\n",
    "    Fond_carte = gpd.read_file(\"https://france-geojson.gregoiredavid.fr/repo/regions.geojson\")\n",
    "    Fond_carte.columns = ['code' , 'Region' , 'geometry']\n",
    "    Fond_carte = Fond_carte[['Region' , 'geometry']]\n",
    "    Fond_carte['Region']=Fond_carte['Region'].map({'Provence-Alpes-Côte d\\'Azur':'Provence-Alpes-Cote-d Azur',\n",
    "                             'Île-de-France':'Ile de France',\n",
    "                             'Nouvelle-Aquitaine':'Nouvelle-Aquitaine',\n",
    "                             'Occitanie':'Occitanie',\n",
    "                             'Grand Est':'Grand Est',\n",
    "                             'Pays de la Loire':'Pays de la Loire',\n",
    "                             'Bretagne' : 'Bretagne',\n",
    "                             'Hauts-de-France': 'Hauts-de-France',\n",
    "                             'Centre-Val de Loire': 'Centre-Val de Loire',\n",
    "                             'Normandie': 'Normandie',\n",
    "                             'Bourgogne-Franche-Comté':'Bourgogne Franche Comté',\n",
    "                             'Auvergne-Rhône-Alpes':'Auvergne Rohne Alpes'})\n",
    "    \n",
    "    df = nettoyage_bases.conso_quotidienne()\n",
    "    df = df[['Mois','Consommation brute totale (MW)' , 'Region']].groupby(['Mois' , 'Region']).mean()\n",
    "    df = df.reset_index()\n",
    "    df = df.merge(Fond_carte , on = 'Region')\n",
    "\n",
    "    gdf = gpd.GeoDataFrame(df, geometry = df['geometry'])\n",
    "\n",
    "    return gdf.loc[gdf['Mois']== mois].explore(column=\"Consommation brute totale (MW)\", tooltip=\"Consommation brute totale (MW)\",popup = True)\n",
    "    "
   ]
  },
  {
   "cell_type": "code",
   "execution_count": 15,
   "metadata": {},
   "outputs": [],
   "source": [
    "def carte_pred_conso():\n",
    "    Fond_carte = gpd.read_file(\"https://france-geojson.gregoiredavid.fr/repo/regions.geojson\")\n",
    "    Fond_carte.columns = ['code' , 'Region' , 'geometry']\n",
    "    Fond_carte = Fond_carte[['Region' , 'geometry']]\n",
    "    Fond_carte['Region']=Fond_carte['Region'].map({'Provence-Alpes-Côte d\\'Azur':'Provence-Alpes-Cote-d Azur',\n",
    "                             'Île-de-France':'Ile de France',\n",
    "                             'Nouvelle-Aquitaine':'Nouvelle-Aquitaine',\n",
    "                             'Occitanie':'Occitanie',\n",
    "                             'Grand Est':'Grand Est',\n",
    "                             'Pays de la Loire':'Pays de la Loire',\n",
    "                             'Bretagne' : 'Bretagne',\n",
    "                             'Hauts-de-France': 'Hauts-de-France',\n",
    "                             'Centre-Val de Loire': 'Centre-Val de Loire',\n",
    "                             'Normandie': 'Normandie',\n",
    "                             'Bourgogne-Franche-Comté':'Bourgogne Franche Comté',\n",
    "                             'Auvergne-Rhône-Alpes':'Auvergne Rohne Alpes'})\n",
    "    \n",
    "    df = Modelisation.table_conso_pred()\n",
    "    df.columns = ['Region' , 'Conso_2020' ,\t'Conso Opti' ,\t'Conso Lf' ,\t'Pic_Conso_opti(MW)/Jour' ,\t'Pic_Conso_2020/Jour' ,\t'Pic_Conso_lf(MW)/Jour' ,\t'Evolution 2020 / Opti en MW']\n",
    "    df = df[['Region' , 'Evolution 2020 / Opti en MW']]\n",
    "    df = df.merge(Fond_carte , on = 'Region')\n",
    "\n",
    "    gdf = gpd.GeoDataFrame(df, geometry = df['geometry'])\n",
    "\n",
    "    return gdf.explore(column=\"Evolution 2020 / Opti en MW\", tooltip = False , popup = True)\n",
    "\n",
    "\n"
   ]
  }
 ],
 "metadata": {
  "kernelspec": {
   "display_name": "Python 3.10.2 64-bit",
   "language": "python",
   "name": "python3"
  },
  "language_info": {
   "codemirror_mode": {
    "name": "ipython",
    "version": 3
   },
   "file_extension": ".py",
   "mimetype": "text/x-python",
   "name": "python",
   "nbconvert_exporter": "python",
   "pygments_lexer": "ipython3",
   "version": "3.10.2"
  },
  "orig_nbformat": 4,
  "vscode": {
   "interpreter": {
    "hash": "b460384b52104c1e5b9cf54bee46a255d22b2bef338f75ac4ad5d48196028d3c"
   }
  }
 },
 "nbformat": 4,
 "nbformat_minor": 2
}
