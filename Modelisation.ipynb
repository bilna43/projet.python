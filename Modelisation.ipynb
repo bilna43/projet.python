{
 "cells": [
  {
   "cell_type": "code",
   "execution_count": 5,
   "metadata": {},
   "outputs": [],
   "source": [
    "from sklearn.preprocessing import PolynomialFeatures\n",
    "from sklearn.linear_model import LinearRegression\n",
    "from sklearn.model_selection import train_test_split\n",
    "from sklearn.metrics import r2_score\n",
    "from sklearn.metrics import mean_squared_error\n",
    "import numpy as np\n",
    "import pandas as pd\n",
    "import matplotlib.pyplot as plt\n",
    "import operator\n",
    "import import_ipynb\n",
    "import nettoyage_bases"
   ]
  },
  {
   "cell_type": "code",
   "execution_count": 12,
   "metadata": {},
   "outputs": [],
   "source": [
    "np.random.seed(1232)"
   ]
  },
  {
   "cell_type": "code",
   "execution_count": 13,
   "metadata": {},
   "outputs": [],
   "source": [
    "def x_donnee():\n",
    "    meteo_pic_conso = nettoyage_bases.meteo_pic_conso()\n",
    "    ### On ajoute simplement quelque valeurs cohérente aux valeurs données pour mieux considérer le modéle lorsque la température moyenne est élevé\n",
    "    x=meteo_pic_conso['temperature_moyenne'].to_numpy()\n",
    "    x2=np.array([30,29,29,28,28,26,28,30,29])\n",
    "    x= np.append(x,x2)\n",
    "    x=x.reshape(-1,1)\n",
    "    return x\n",
    "\n",
    "def y_donnee():\n",
    "    meteo_pic_conso = nettoyage_bases.meteo_pic_conso()\n",
    "    y=meteo_pic_conso['pic_journalier_consommation'].to_numpy()\n",
    "    y2=np.array([57000,55700,57000,54500,55475,53800,53400,55000,55200])\n",
    "    y=np.append(y,y2)\n",
    "    y=y.reshape(-1,1)\n",
    "    return y\n",
    "\n",
    "\n",
    "\n",
    "def liste_deg_pol():\n",
    "    def Choixdeg (x,y,degree):                          ####### Cette fonction renvoie la mesure d'erreur du modéle en fonction du degrés du polynome, ceci pour obtenir la meilleure régression polynomiale possible\n",
    "        polynomial_features= PolynomialFeatures(degree=degree)\n",
    "        x_poly = polynomial_features.fit_transform(x)\n",
    "        model = LinearRegression()\n",
    "        model.fit(x_poly, y)\n",
    "        y_poly_pred = model.predict(x_poly)\n",
    "        rmse = np.sqrt(mean_squared_error(y,y_poly_pred))\n",
    "        r2 = r2_score(y,y_poly_pred)\n",
    "        sort_axis = operator.itemgetter(0)\n",
    "        sorted_zip = sorted(zip(x,y_poly_pred), key=sort_axis)\n",
    "        x_p, y_poly_pred_P = zip(*sorted_zip)\n",
    "        return rmse, x_p, y_poly_pred_P,r2\n",
    "\n",
    "    x = x_donnee()\n",
    "    y = y_donnee()\n",
    "    \n",
    "## On détermine avec la fonction Choixdeg le meillleur degrés   \n",
    "    r2_list = np.zeros(50)\n",
    "    rmselist = np.zeros(50)\n",
    "    x_p_list = [None]*50\n",
    "    y_poly_pred_P_list=[None]*50\n",
    "\n",
    "    for i in np.arange(1, 51):\n",
    "        rmselist[i-1] ,x_p_list[i-1],y_poly_pred_P_list[i-1],r2_list[i-1]= Choixdeg (x,y,i)\n",
    "    return [rmselist , x_p_list , y_poly_pred_P_list , r2_list ]\n"
   ]
  },
  {
   "cell_type": "code",
   "execution_count": 14,
   "metadata": {},
   "outputs": [],
   "source": [
    "def choix_deg_poly():\n",
    "    L_pol = liste_deg_pol()\n",
    "    r2_list = L_pol[3] \n",
    "    rmselist = L_pol[0]\n",
    "### On plot :\n",
    "    plt.close()       \n",
    "    plt.plot(np.arange(1, 51), rmselist, color='r',label='MSE')\n",
    "    plt.xticks(np.arange(0, 50,2))\n",
    "    plt.title('Calcul du MSE selon le degrés du polynôme')\n",
    "    plt.show()\n",
    "\n",
    "    plt.plot(np.arange(1, 51), r2_list, color='g',label='R2')\n",
    "    plt.xticks(np.arange(0, 50,2))\n",
    "    plt.xlabel('Degrés')\n",
    "    plt.ylabel('R2')\n",
    "    plt.title(' R2 en fonction du degrés du polynôme')\n",
    "    return plt.show()"
   ]
  },
  {
   "cell_type": "code",
   "execution_count": 1,
   "metadata": {},
   "outputs": [],
   "source": [
    "def plot_res_modele():\n",
    "    meteo_pic_conso = nettoyage_bases.meteo_pic_conso()\n",
    "\n",
    "    x=meteo_pic_conso['temperature_moyenne'].to_numpy()\n",
    "    x2=np.array([30,29,29,28,28,26,28,30,29])\n",
    "    x= np.append(x,x2)\n",
    "    x=x.reshape(-1,1)\n",
    "\n",
    "    y=meteo_pic_conso['pic_journalier_consommation'].to_numpy()\n",
    "    y2=np.array([57000,55700,57000,54500,55475,53800,53400,55000,55200])\n",
    "    y=np.append(y,y2)\n",
    "    y=y.reshape(-1,1)\n",
    "\n",
    "    X= meteo_pic_conso['temperature_moyenne'].to_numpy().reshape(-1,1)\n",
    "    Y = meteo_pic_conso['pic_journalier_consommation'].to_numpy().reshape(-1,1)\n",
    "\n",
    "    X_train, X_test, Y_train, Y_test = train_test_split(X, Y, test_size = 0.2, random_state=5)\n",
    "\n",
    "    def evalPolynomialRegression(degree):\n",
    "    #entrainement du modèle\n",
    "        polynomial_features= PolynomialFeatures(degree=degree)\n",
    "        X_train_poly = polynomial_features.fit_transform(X_train)\n",
    "        X_test_poly = polynomial_features.fit_transform(X_test)\n",
    "        model = LinearRegression()\n",
    "        model.fit(X_train_poly, Y_train)\n",
    "    # Evaluation du training set\n",
    "        y_train_predict = model.predict(X_train_poly)\n",
    "        rmse_train= (np.sqrt(mean_squared_error(Y_train, y_train_predict)))\n",
    "        r2_train = r2_score(Y_train, y_train_predict)\n",
    "    # Evaluation du testing set\n",
    "        y_test_predict = model.predict(X_test_poly)\n",
    "        rmse_test = (np.sqrt(mean_squared_error(Y_test, y_test_predict)))\n",
    "        r2_test = r2_score(Y_test, y_test_predict)\n",
    "    \n",
    "        return model,[r2_train , r2_test] ,[rmse_train , rmse_test]\n",
    "\n",
    "#On choisit le degrés le plus convainquant parmis ceux minimisant le rse et maximisant le R2, en loccurence 6\n",
    "    poly=PolynomialFeatures(6)\n",
    "    lin = evalPolynomialRegression(6)[1]\n",
    "\n",
    "    X_poly = poly.fit_transform(x)\n",
    "    poly.fit(X_poly, y)\n",
    "    lin.fit(X_poly, y)"
   ]
  },
  {
   "cell_type": "code",
   "execution_count": null,
   "metadata": {},
   "outputs": [],
   "source": []
  },
  {
   "cell_type": "code",
   "execution_count": null,
   "metadata": {},
   "outputs": [],
   "source": [
    "X_poly = poly.fit_transform(x)\n",
    "poly.fit(X_poly, y)\n",
    "lin.fit(X_poly, y)\n",
    "\n",
    "#### On applique la regression a nos données\n",
    "\n",
    "meteo = meteo.dropna()\n",
    "meteo = meteo.groupby(['region','day']).mean()\n",
    "meteo = meteo.reset_index(level='region')\n",
    "meteo = meteo.reset_index(level='day')\n",
    "meteo['Conso_opti_pred']= meteo['Temp_opti'].apply(prediction)\n",
    "meteo['Conso_lf_pred']= meteo['Temp_lf'].apply(prediction)\n",
    "meteo['Conso_2020_pred']= meteo['TempMoy_Deg'].apply(prediction)\n",
    "\n",
    "##### On peut plot n'importe quelle région, et analyser les conséquence en générale.\n",
    "plot_reg('Hauts-de-France')"
   ]
  }
 ],
 "metadata": {
  "kernelspec": {
   "display_name": "Python 3.10.2 64-bit",
   "language": "python",
   "name": "python3"
  },
  "language_info": {
   "codemirror_mode": {
    "name": "ipython",
    "version": 3
   },
   "file_extension": ".py",
   "mimetype": "text/x-python",
   "name": "python",
   "nbconvert_exporter": "python",
   "pygments_lexer": "ipython3",
   "version": "3.10.2"
  },
  "orig_nbformat": 4,
  "vscode": {
   "interpreter": {
    "hash": "b460384b52104c1e5b9cf54bee46a255d22b2bef338f75ac4ad5d48196028d3c"
   }
  }
 },
 "nbformat": 4,
 "nbformat_minor": 2
}
